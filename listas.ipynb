{
  "nbformat": 4,
  "nbformat_minor": 0,
  "metadata": {
    "colab": {
      "provenance": [],
      "authorship_tag": "ABX9TyOq6kd3kttQDiOv9nPs2cmR",
      "include_colab_link": true
    },
    "kernelspec": {
      "name": "python3",
      "display_name": "Python 3"
    },
    "language_info": {
      "name": "python"
    }
  },
  "cells": [
    {
      "cell_type": "markdown",
      "metadata": {
        "id": "view-in-github",
        "colab_type": "text"
      },
      "source": [
        "<a href=\"https://colab.research.google.com/github/jhonmendez17092009/Area_Perimetro_Circulo/blob/main/listas.ipynb\" target=\"_parent\"><img src=\"https://colab.research.google.com/assets/colab-badge.svg\" alt=\"Open In Colab\"/></a>"
      ]
    },
    {
      "cell_type": "markdown",
      "source": [
        "# lista\n",
        "\n",
        "- una lista hace referencia a una coleccion de datos que pueden ser numeros,cadenas o algun otro tipo.\n",
        "\n",
        "- son colecciones ordenadas de datos,lo que implica que importa el orden en el que se encuentren sus elementos\n",
        "\n",
        "- el primer elemento ocupa la pocicion 0, y el segundo 1 y asi sucesivamente\n",
        "\n",
        "- son mutables: una ves creada la lista puede ser modificada\n",
        "\n",
        "- en python esta represetada  por el tipo ***list*** y para definirlas de utiliza la siguiente sintexis:\n",
        "\n",
        "```nombre_lista = [valor1,valor2,...,valorn]```\n",
        "\n",
        "- los elementos son de cualquier tipo,incluso puede haber barios tipos en una misma lista\n",
        "\n",
        "- tambien es pocible crear con el constructur ```list()```\n",
        "\n",
        ""
      ],
      "metadata": {
        "id": "eHtCBcBwCm6q"
      }
    },
    {
      "cell_type": "code",
      "execution_count": null,
      "metadata": {
        "id": "Ef5gbNo6Cb1s"
      },
      "outputs": [],
      "source": [
        "# ejemplo 1\n",
        "\n",
        "# ====================================================\n",
        "# usando [] y dando valores para inicializar las lista\n",
        "# ====================================================\n",
        "\n",
        "dias_laborables = [\"lunes\",\"martes\",\"miercoles\",\"jueves\",\"viernes\"]\n",
        "print(dias_laborables)\n",
        "\n",
        "colores_primarios = [\"rojo\",\"amarillo\",\"azul\"]\n",
        "print(colores_primarios)\n",
        "\n",
        "precios = [200.5,107.18,25,450,310.89,107.23,340]\n",
        "print(precios)\n",
        "print(type(precios))\n",
        "mezcolanza =[12,\"octubre\",1492, True]\n",
        "lista_vacia = []\n",
        "print(lista_vacia)\n",
        "\n",
        "# ====================================================\n",
        "# usando el contructor list()\n",
        "# ====================================================\n",
        "lista_vacia2 = list()\n",
        "lista_3 = list(range(0,30,2))\n",
        "print(lista_3)\n",
        "lista_4 = list(range(29,0,-2))\n",
        "print(lista_4)\n",
        "lista_5 = list(\"jhoasnel mendez\")\n",
        "print(lista_5)\n",
        "frase = \"jhoasnel jose mendez aguilar\"\n",
        "lista_6 = frase.split()\n",
        "print(lista_6)"
      ]
    },
    {
      "cell_type": "markdown",
      "source": [
        "## operaciones\n",
        "\n",
        "### operador +\n",
        "\n",
        "- concatenar o pegar los elementos de una lista\n",
        "\n",
        "### operador *\n",
        "\n",
        "- repetir la secuencia de elementos de la lista tantas veses como lo u¡indique el valor que acompaña el operador"
      ],
      "metadata": {
        "id": "M4c8jMi4Qvv_"
      }
    },
    {
      "cell_type": "code",
      "source": [
        "dias_laborables = [\"lunes\",\"martes\",\"miercoles\",\"jueves\",\"viernes\"]\n",
        "\n",
        "colores_primarios = [\"rojo\",\"amarillo\",\"azul\"]\n",
        "\n",
        "precios = [200.5,107.18,25,450,310.89,107.23,340]\n",
        "\n",
        "# ====================================================\n",
        "# aceso a los elementos de una lista\n",
        "# ====================================================\n",
        "\n",
        "print(dias_laborables[0])\n",
        "print(dias_laborables[-1])\n",
        "print(dias_laborables[-5])\n",
        "\n",
        "# ====================================================\n",
        "# operador +\n",
        "# ====================================================\n",
        "\n",
        "fin_semana = [\"sabado\",\"domingo\"]\n",
        "semana = dias_laborables + fin_semana\n",
        "print(semana)\n",
        "\n",
        "# ====================================================\n",
        "# operador *\n",
        "# ====================================================\n",
        "\n",
        "colores_repetidos = colores_primarios * 3\n",
        "print(colores_repetidos)\n"
      ],
      "metadata": {
        "id": "r3ZXC1VjRdyt"
      },
      "execution_count": null,
      "outputs": []
    },
    {
      "cell_type": "markdown",
      "source": [
        "### funciones asociadas a lista"
      ],
      "metadata": {
        "id": "nAHrwAmzUJCz"
      }
    },
    {
      "cell_type": "code",
      "source": [
        "dias_laborables = [\"lunes\",\"martes\",\"miercoles\",\"jueves\",\"viernes\"]\n",
        "\n",
        "\n",
        "colores_primarios = [\"rojo\",\"amarillo\",\"azul\"]\n",
        "\n",
        "precios = [200.5,107.18,25,450,310.89,107.23,340]\n",
        "\n",
        "pares = list(range(0,30,2))\n",
        "\n",
        "impares = list(range(29,0,-2))\n",
        "\n",
        "colores_repetidos = colores_primarios * 3\n",
        "\n",
        "# append():agrega un elemento al final de la lista\n",
        "\n",
        "dias_laborables.append(\"sabado\")\n",
        "print(dias_laborables)\n",
        "\n",
        "# len():total elementos de una lista\n",
        "\n",
        "print(\"total de precios = \" , len(precios))\n",
        "\n",
        "# count(): cuenta el numero de veces que aparese un elemento en una lista\n",
        "print(f\"el lunes aparece {dias_laborables.count('lunes')} vez(veces)\")\n",
        "\n",
        "# insert(): agrega en la pocicion indicada por el indice el nuevovalor desplasando los demas elementos hacia la derecha si el indise es mayor al numerro de la lista lo agrega al final\n",
        "\n",
        "colores_primarios.insert(2,\"verde\")\n",
        "print(colores_primarios)\n",
        "\n",
        "# remove(). quita elemento de la lista si el elemnto no esta lansa una execion\n",
        "\n",
        "dias_laborables.remove(\"sabado\")\n",
        "print(dias_laborables)\n",
        "\n",
        "# sort(): ordena la lista de menor a mayor\n",
        "\n",
        "precios.sort()\n",
        "print(precios)\n",
        "precios.sort(reverse=True)\n",
        "print(precios)\n",
        "\n",
        "# reverse():\n",
        "print(pares)\n",
        "pares.reverse()\n",
        "print(pares)\n",
        "\n",
        "\n",
        "# pop():\n",
        "dias_laborables.pop(2)\n",
        "print(dias_laborables)\n",
        "\n",
        "# clear():\n",
        "colores_primarios.clear()\n",
        "print(colores_primarios)\n",
        "\n",
        "# del():\n",
        "\n",
        "del colores_primarios[1]\n",
        "print(colores_primarios)\n"
      ],
      "metadata": {
        "colab": {
          "base_uri": "https://localhost:8080/",
          "height": 384
        },
        "id": "8vxH8n9mUVsC",
        "outputId": "e0663cad-251d-460d-be9a-e3ec531f7a0e"
      },
      "execution_count": 30,
      "outputs": [
        {
          "output_type": "stream",
          "name": "stdout",
          "text": [
            "['lunes', 'martes', 'miercoles', 'jueves', 'viernes', 'sabado']\n",
            "total de precios =  7\n",
            "el lunes aparece 1 vez(veces)\n",
            "['rojo', 'amarillo', 'verde', 'azul']\n",
            "['lunes', 'martes', 'miercoles', 'jueves', 'viernes']\n",
            "[25, 107.18, 107.23, 200.5, 310.89, 340, 450]\n",
            "[450, 340, 310.89, 200.5, 107.23, 107.18, 25]\n",
            "[0, 2, 4, 6, 8, 10, 12, 14, 16, 18, 20, 22, 24, 26, 28]\n",
            "[28, 26, 24, 22, 20, 18, 16, 14, 12, 10, 8, 6, 4, 2, 0]\n",
            "['lunes', 'martes', 'jueves', 'viernes']\n",
            "[]\n"
          ]
        },
        {
          "output_type": "error",
          "ename": "IndexError",
          "evalue": "list assignment index out of range",
          "traceback": [
            "\u001b[0;31m---------------------------------------------------------------------------\u001b[0m",
            "\u001b[0;31mIndexError\u001b[0m                                Traceback (most recent call last)",
            "\u001b[0;32m<ipython-input-30-2a891b37a545>\u001b[0m in \u001b[0;36m<cell line: 0>\u001b[0;34m()\u001b[0m\n\u001b[1;32m     57\u001b[0m \u001b[0;31m# del():\u001b[0m\u001b[0;34m\u001b[0m\u001b[0;34m\u001b[0m\u001b[0m\n\u001b[1;32m     58\u001b[0m \u001b[0;34m\u001b[0m\u001b[0m\n\u001b[0;32m---> 59\u001b[0;31m \u001b[0;32mdel\u001b[0m \u001b[0mcolores_primarios\u001b[0m \u001b[0;34m[\u001b[0m\u001b[0;36m1\u001b[0m\u001b[0;34m]\u001b[0m\u001b[0;34m\u001b[0m\u001b[0;34m\u001b[0m\u001b[0m\n\u001b[0m\u001b[1;32m     60\u001b[0m \u001b[0mprint\u001b[0m\u001b[0;34m(\u001b[0m\u001b[0mcolores_primarios\u001b[0m\u001b[0;34m)\u001b[0m\u001b[0;34m\u001b[0m\u001b[0;34m\u001b[0m\u001b[0m\n",
            "\u001b[0;31mIndexError\u001b[0m: list assignment index out of range"
          ]
        }
      ]
    },
    {
      "cell_type": "markdown",
      "source": [
        "## particion o divicion de lista\n",
        "\n",
        "se puede generar sublista a partir de una lista por medio de una divicion para obtener una sublista usamos la sintexis:\n",
        "```[inicio:fin:n]```"
      ],
      "metadata": {
        "id": "blHOT9xzf9T0"
      }
    },
    {
      "cell_type": "code",
      "source": [
        "# se crea un lista de numeros enteros\n",
        "\n",
        "lista_1 = [1,2,3,4,5,6]\n",
        "\n",
        "# sublista con los elementos de 0 al 2\n",
        "\n",
        "sublista_1 = lista_1 [0:3]\n",
        "print(sublista_1)\n",
        "\n",
        "# sublista con los elementos  1 a la 4 inclusive\n",
        "\n",
        "sublista_2 = lista_1[:4]\n",
        "print(sublista_2)\n",
        "\n",
        "# sublista con los elementos 3 a la 5 inclusive\n",
        "sublista_3 = lista_1[3:]\n",
        "print(sublista_3)\n",
        "\n",
        "# sublista con los elementos desde el inicio hasta el final, con saltos de a 2\n",
        "sublista_4 = lista_1[::2]\n",
        "print(sublista_4)"
      ],
      "metadata": {
        "id": "pVla1hgLg7W7"
      },
      "execution_count": null,
      "outputs": []
    }
  ]
}